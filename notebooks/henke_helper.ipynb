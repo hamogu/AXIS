{
 "cells": [
  {
   "cell_type": "code",
   "execution_count": 33,
   "id": "bc99e54a",
   "metadata": {},
   "outputs": [],
   "source": [
    "from glob import glob\n",
    "from astropy.table import Table\n",
    "import astropy.units as u"
   ]
  },
  {
   "cell_type": "markdown",
   "id": "9789e987",
   "metadata": {},
   "source": [
    "Download is just done by hand. Can look at POST request, see the fields in the that request and automate the process of querying, but for now, I'm just saving the time and it's quicker to download by hand."
   ]
  },
  {
   "cell_type": "code",
   "execution_count": 34,
   "id": "615de607",
   "metadata": {},
   "outputs": [],
   "source": [
    "xrayf = glob('/Users/guenther/Downloads/xray*.dat')\n",
    "xrayf.sort()"
   ]
  },
  {
   "cell_type": "code",
   "execution_count": 35,
   "id": "12a9ec4c",
   "metadata": {},
   "outputs": [],
   "source": [
    "def read_CXRO_file(filename):\n",
    "    tab = Table.read(filename, format='ascii.no_header', data_start=2, names=['energy', 'reflectivity'])\n",
    "    with open(filename) as f:\n",
    "        line = f.readline()\n",
    "    # Could be a little more clever with re and check that the other paraemters in the header (e.g. the material!)\n",
    "    # are actually the same for all files, but this is fasted for now.\n",
    "    angle = line.split(',')[-1].strip().replace('deg','')\n",
    "    return tab, angle"
   ]
  },
  {
   "cell_type": "code",
   "execution_count": 41,
   "id": "b0f6e931",
   "metadata": {},
   "outputs": [],
   "source": [
    "tab = Table.read(xrayf[0], format='ascii.no_header', data_start=2, names=['energy', 'reflectivity'])\n",
    "combined = Table(tab[['energy']])\n",
    "\n",
    "for f in xrayf:\n",
    "    tab, angle = read_CXRO_file(f)\n",
    "    combined[angle] = tab['reflectivity']\n",
    "\n",
    "combined['energy'].unit = u.eV\n",
    "combined.meta['CREATOR'] = 'Moritz Guenther/MIT'\n",
    "combined.meta['HENKE'] = 'Ir Rho=22.42, Sig=0.nm, P=0.'\n",
    "combined.meta['NOTES'] = 'Retrieved from CXRO online query form henke'"
   ]
  },
  {
   "cell_type": "code",
   "execution_count": 42,
   "id": "09a54b67",
   "metadata": {},
   "outputs": [],
   "source": [
    "combined.write('/Users/guenther/projects/lynx/marxs-lynx/marxslynx/data/ir_refelctivity.dat', format='ascii.ecsv')"
   ]
  },
  {
   "cell_type": "code",
   "execution_count": null,
   "id": "69938a55",
   "metadata": {},
   "outputs": [],
   "source": []
  }
 ],
 "metadata": {
  "kernelspec": {
   "display_name": "Python 3 (ipykernel)",
   "language": "python",
   "name": "python3"
  },
  "language_info": {
   "codemirror_mode": {
    "name": "ipython",
    "version": 3
   },
   "file_extension": ".py",
   "mimetype": "text/x-python",
   "name": "python",
   "nbconvert_exporter": "python",
   "pygments_lexer": "ipython3",
   "version": "3.10.1"
  }
 },
 "nbformat": 4,
 "nbformat_minor": 5
}

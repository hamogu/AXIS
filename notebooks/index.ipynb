{
 "cells": [
  {
   "cell_type": "code",
   "execution_count": null,
   "metadata": {},
   "outputs": [],
   "source": [
    "from nbtemplate import display_header\n",
    "display_header('index.ipynb')"
   ]
  },
  {
   "cell_type": "markdown",
   "metadata": {},
   "source": [
    "# Ray-tracing the AXIS XGS\n",
    "\n",
    "In these pages I present the ray-trace studies I've done so far for the AXIS x-ray grating spectrometer (XGS). My goal is to explore different design options, but since some parameters of the mission are not fully defined yet, the exact numbers may change, but, based on my experience with . The top level results are:\n",
    "\n",
    "- A spectral resolving power of $R = 3000$ is easy. We will reach that in any design studied.\n",
    "\n",
    "- For higher spectral resolving powers, the size of the flat gratings becomes the limiting factor, we have to use either smaller (and thus more) gratings, or bend or chirp them. With that, $R = 8000$ is possible. We choose $30*60$ mm$^2$ gratings as fiducial for most of these studies.\n",
    "\n",
    "- Reaching an effective area of 1000 cm$^2$ at O VII requires the gratings to cover about 2/3 of the aperture. For $60*60$ mm$^2$ gratings, that requires about 360 gratings - fewer than Arcus.\n",
    "\n",
    "- Given that the PSF is not well-suited to sup-aperturing, the ideal aperturing scheme is **not** to opposite sectors, but just a gap in the negative dispersion direction (see 3D image below). \n",
    "\n",
    "- The blaze peak is relatively narrow. Detectors for the dispersed spectrum need to cover about 150-200 mm of length (half the size of a single Arcus camera). We simulate 4 CCDs of $25 * 50$ mm$^2$ for more of these simulations.\n",
    "\n",
    "- Pure Si gratings are essentially transparent above 2 keV. Even with the gratings inserted, the zeroth order still received 70% of the photons with would without gratings. The grating spectrum ranges from about 1.5-5 nm.\n",
    "\n",
    "- Coated gratings (we simulate Pt), extend the useful range of the gratings to about 2 keV.\n",
    "\n",
    "Plots and more detailes can be found on the other pages of this website (see menu bar on top).\n",
    "\n",
    "\n",
    "Please let me know if you have any questions or need high-resolution versions of any of the plots or\n",
    "the data to recreate the plot by emailing hgunther@mit.edu. (The plots here are optimized for viewing on the web.)\n",
    "\n",
    "Here is the pointer to the software used:\n",
    "\n",
    "- My general ray-trace code [MARXS](http://marxs.readthedocs.io/en/latest/index.html)\n",
    "- Ray-trace code [specific to Lynx](https://github.com/hamogu/marxs-lynx)"
   ]
  },
  {
   "cell_type": "markdown",
   "metadata": {},
   "source": [
    "## AXIS XGS: How does is look?\n",
    "In this section, I show how the XGS setup looks. I start with an interactive 3D view, which can be zoomed and rotated with the mouse in all supported browsers; pressing \"r\" returns the view to the initial position. See [the X3DOM documentation](https://www.x3dom.org/documentation/interaction/) for a full list of supported mouse and keyboard commands.\n",
    "\n",
    "Rays start in the aperture, which is shaped like a series of concentric rings. In the AXIS mirrors, photons will bounce twice in a Wolter-Schwarzschild geometry. However, in this simulation the mirror is simplified such that the reflection actually happens in a single plane (the the double reflection is taken into account when calculating the survival probability of a photon).  "
   ]
  },
  {
   "cell_type": "code",
   "execution_count": null,
   "metadata": {},
   "outputs": [],
   "source": [
    "import numpy as np\n",
    "import astropy.units as u\n",
    "from astropy.table import Table\n",
    "from astropy.coordinates import SkyCoord\n",
    "from marxs.source import PointSource, FixedPointing\n",
    "from marxs import simulator\n",
    "from marxs.visualization.x3d import plot_object, plot_rays\n",
    "from marxslynx.ralfgrating import facet_table\n",
    "from marxslynx import AXIS as axis\n",
    "\n",
    "import x3d"
   ]
  },
  {
   "cell_type": "code",
   "execution_count": null,
   "metadata": {},
   "outputs": [],
   "source": [
    "n_photons = 1e4\n",
    "wave = np.arange(6., 60., 0.5) * u.Angstrom\n",
    "energies = wave.to(u.keV, equivalencies=u.spectral())\n",
    "instrument = axis.AXISForPlot(conf=axis.conf)\n"
   ]
  },
  {
   "cell_type": "code",
   "execution_count": null,
   "metadata": {},
   "outputs": [],
   "source": [
    "facettab = facet_table(instrument.elements[2])"
   ]
  },
  {
   "cell_type": "code",
   "execution_count": null,
   "metadata": {},
   "outputs": [],
   "source": [
    "# Restricting facets to a certain range in angles\n",
    "ind = np.abs(np.abs(facettab['facet_ang'])) < np.pi * 2 / 3\n",
    "instrument.elements[2].elements = [instrument.elements[2].elements[i] for i in ind.nonzero()[0]]"
   ]
  },
  {
   "cell_type": "code",
   "execution_count": null,
   "metadata": {},
   "outputs": [],
   "source": [
    "src = PointSource(coords=SkyCoord(30. * u.deg, 30. * u.deg),\n",
    "                           energy=0.4 * u.keV,\n",
    "                           flux=1. / u.s / u.cm**2)\n",
    "pointing = FixedPointing(coords=SkyCoord(30 * u.deg, 30. * u.deg))"
   ]
  },
  {
   "cell_type": "code",
   "execution_count": null,
   "metadata": {},
   "outputs": [],
   "source": [
    "keeppos = simulator.KeepCol('pos')\n",
    "keepprob = simulator.KeepCol('probability')\n",
    "instrument.postprocess_steps = [keeppos, keepprob]\n",
    "photons = src.generate_photons(n_photons * u.s)\n",
    "photons = pointing(photons)\n",
    "photons = instrument(photons)"
   ]
  },
  {
   "cell_type": "code",
   "execution_count": null,
   "metadata": {},
   "outputs": [],
   "source": [
    "#fig = mlab.figure(bgcolor=(.8, .8, .8))\n",
    "#mlab.clf()\n",
    "\n",
    "out = plot_object(instrument)\n",
    "\n",
    "# Need to implement drawing of lines in x3d backend!!\n",
    "\n",
    "#pos = keeppos.format_positions()\n",
    "#ind = (photons['CCD_ID'] >= 0) | np.isfinite(photons['microcal_x'])\n",
    "#photons['order'][np.isnan(photons['order'])] = 0\n",
    "#out = plot_rays(pos[ind, :, :], scalar=photons['order'][ind], viewer=fig)"
   ]
  },
  {
   "cell_type": "code",
   "execution_count": null,
   "metadata": {},
   "outputs": [],
   "source": [
    "out.dimension_px = (1000, 800)\n",
    "out.children.append(x3d.x3d.Viewpoint(\n",
    "    centerOfRotation=(5000, 0, 0),\n",
    "    description='Overview',\n",
    "    fieldOfView=1, # panoramic view. Default is 45 deg = 0.78 or so\n",
    "    orientation=(-.2, .97, -.2, 2.4),\n",
    "    position=(11000, -3000, -5000),\n",
    "))\n",
    "out"
   ]
  },
  {
   "cell_type": "markdown",
   "metadata": {},
   "source": [
    "Basic design for a AXIS CAT grating spectrometer, showing a ray-trace for an on-axis point source with a monochromatic emission at 0.4 keV = 31 Å.\n",
    "This is the scenario with the nominal gratings we studied (30 mm * 60 mm). Gratings are arbitrarily colored in sectors. Not the entire aperture is filled with gratings. We study different ways to sub-aperture and this is just one possible configuration."
   ]
  }
 ],
 "metadata": {
  "kernelspec": {
   "display_name": "Python 3 (ipykernel)",
   "language": "python",
   "name": "python3"
  },
  "language_info": {
   "codemirror_mode": {
    "name": "ipython",
    "version": 3
   },
   "file_extension": ".py",
   "mimetype": "text/x-python",
   "name": "python",
   "nbconvert_exporter": "python",
   "pygments_lexer": "ipython3",
   "version": "3.10.1"
  }
 },
 "nbformat": 4,
 "nbformat_minor": 4
}

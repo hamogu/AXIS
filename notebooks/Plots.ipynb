{
 "cells": [
  {
   "cell_type": "code",
   "execution_count": null,
   "metadata": {},
   "outputs": [],
   "source": [
    "from nbtemplate import display_header, get_path\n",
    "display_header('Plots.ipynb')"
   ]
  },
  {
   "cell_type": "markdown",
   "metadata": {},
   "source": [
    "## Goal\n",
    "\n",
    "This notebook shows a few plots to give a flavor of how the data taken with the AXIS XGS might look."
   ]
  },
  {
   "cell_type": "code",
   "execution_count": null,
   "metadata": {},
   "outputs": [],
   "source": [
    "import numpy as np\n",
    "from astropy.table import QTable\n",
    "import astropy.units as u\n",
    "from astropy.coordinates import SkyCoord\n",
    "from astropy.visualization import ImageNormalize, MinMaxInterval, LogStretch, AsymmetricPercentileInterval, SqrtStretch\n",
    "from scipy import stats\n",
    "from marxs.source import PointSource, FixedPointing\n",
    "from marxslynx import AXIS as axis"
   ]
  },
  {
   "cell_type": "code",
   "execution_count": null,
   "metadata": {},
   "outputs": [],
   "source": [
    "import matplotlib.pyplot as plt\n",
    "\n",
    "%matplotlib inline"
   ]
  },
  {
   "cell_type": "code",
   "execution_count": null,
   "metadata": {},
   "outputs": [],
   "source": [
    "instrum = axis.PerfectAXIS()"
   ]
  },
  {
   "cell_type": "code",
   "execution_count": null,
   "metadata": {},
   "outputs": [],
   "source": [
    "instrum_nogratings = axis.PerfectAXIS(gratings=False)"
   ]
  },
  {
   "cell_type": "code",
   "execution_count": null,
   "metadata": {},
   "outputs": [],
   "source": [
    "EQPegAspec = QTable.read('../inputdata/EQPegA_flux.tbl', \n",
    "                         format='ascii', \n",
    "                         names=['energy', 'fluxdensity'])\n",
    "EQPegAspec['energy'] = EQPegAspec['energy'] * u.keV\n",
    "EQPegAspec['fluxdensity'] = EQPegAspec['fluxdensity'] / u.s / u.cm**2 / u.keV\n",
    "\n",
    "# Restrict to the range where the Lynx XGS tables are defined\n",
    "EQPegAspec = EQPegAspec[(EQPegAspec['energy'] > 0.2 * u.keV) & (EQPegAspec['energy'] < 2. * u.keV)]"
   ]
  },
  {
   "cell_type": "code",
   "execution_count": null,
   "metadata": {},
   "outputs": [],
   "source": [
    "coord = SkyCoord.from_name(\"EQ Peg\")\n",
    "eqpega = PointSource(coords=coord, energy=EQPegAspec,\n",
    "                    geomarea=instrum.elements[0].area,\n",
    "                    flux=(EQPegAspec['fluxdensity'][1:] * np.diff(EQPegAspec['energy'])).sum())\n",
    "eqpegapointing = FixedPointing(coords=coord)"
   ]
  },
  {
   "cell_type": "code",
   "execution_count": null,
   "metadata": {},
   "outputs": [],
   "source": [
    "photons = eqpega.generate_photons(1e3 * u.s)\n",
    "len(photons)"
   ]
  },
  {
   "cell_type": "code",
   "execution_count": null,
   "metadata": {},
   "outputs": [],
   "source": [
    "photons = eqpegapointing(photons)\n",
    "photons_nograting = instrum_nogratings(photons.copy())\n",
    "photons = instrum(photons)"
   ]
  },
  {
   "cell_type": "code",
   "execution_count": null,
   "metadata": {},
   "outputs": [],
   "source": [
    "bins = [np.linspace(-.1, .1, 50), np.linspace(-.1, .1, 50)]\n",
    "\n",
    "H, xe, ye = np.histogram2d(photons['projcirc_y'], photons['projcirc_z'], weights=photons['probability'],\n",
    "               bins=bins)\n",
    "# Create an ImageNormalize object\n",
    "norm = ImageNormalize(H, interval=MinMaxInterval(), stretch=LogStretch())\n",
    "\n",
    "with plt.style.context('fivethirtyeight'):\n",
    "    fig, ax = plt.subplots(figsize=(10, 6))\n",
    "    im = ax.imshow(H.T, norm=norm, origin='lower', extent=(xe[0], xe[-1], ye[0], ye[-1]),\n",
    "                       aspect='equal', cmap=plt.get_cmap('magma'))\n",
    "    cbar1=plt.colorbar(im, ax=ax, label='counts/bin') #, ticks=[0, 10, 30, 100, 300])\n",
    "    ax.grid(False)\n",
    "    fig.suptitle('Zero order', fontsize=40)   \n",
    "    ax.set_xlabel('Dispersion direction in focal plane (mm)')\n",
    "    ax.set_ylabel('Cross-dispersion direction (mm)')\n"
   ]
  },
  {
   "cell_type": "code",
   "execution_count": null,
   "metadata": {},
   "outputs": [],
   "source": [
    "ind = (photons['probability'] > 0) & (photons['order'] == 0) & (photons['order_L1'] == 0)\n",
    "indno = (photons['probability'] > 0)"
   ]
  },
  {
   "cell_type": "code",
   "execution_count": null,
   "metadata": {},
   "outputs": [],
   "source": [
    "center, sigma = stats.norm.fit(photons_nograting['projcirc_y'][indno], floc=0)\n",
    "sigma_to_HPD = 2 * 0.674\n",
    "((sigma / axis.conf['focallength']) * u.rad).to(u.arcsec) * sigma_to_HPD"
   ]
  },
  {
   "cell_type": "markdown",
   "metadata": {},
   "source": [
    "The number above is the HPD of the simulated PDF, measured from a full simulation. "
   ]
  },
  {
   "cell_type": "code",
   "execution_count": null,
   "metadata": {},
   "outputs": [],
   "source": [
    "fig, ax = plt.subplots()\n",
    "\n",
    "for p, label in zip([photons_nograting, photons], ['imaging', 'gratings in place']):\n",
    "    H, xe = np.histogram(p['projcirc_y'], weights=p['probability'], bins=np.linspace(-.1, .1, 50))\n",
    "    ax.plot((xe[:-1] + xe[1:]) / 2, H / H.sum(), label=label)\n",
    "    \n",
    "ax.legend()\n",
    "ax.set_xlabel('location [mm]')\n",
    "ax.set_ylabel('flux (normalized)')"
   ]
  },
  {
   "cell_type": "markdown",
   "metadata": {},
   "source": [
    "Comparison of the zero order PSF for two simulations with the gratings inserted and with directed light with the gratings retracted. There are a lot more photons in the direct light simulation which can be seen from the less noisy distribution. The gratings do spread out the PSF somewhat do to L2 diffraction, but the effect is negligible on the final PSF. There is also L1 diffraction, but that diffracts photons perpendicular to the dispersion direction by a distance that is easly recognized."
   ]
  },
  {
   "cell_type": "code",
   "execution_count": null,
   "metadata": {},
   "outputs": [],
   "source": [
    "from astropy.visualization import (MinMaxInterval, AsymmetricPercentileInterval, LogStretch, SqrtStretch,\n",
    "                                   ImageNormalize)\n",
    "\n",
    "bins = [np.linspace(300, 600, 500), np.linspace(-20, 20, 500)]\n",
    "\n",
    "H, xe, ye = np.histogram2d(photons['projcirc_y'], photons['projcirc_z'], weights=photons['probability'],\n",
    "               bins=bins)\n",
    "# Create an ImageNormalize object\n",
    "norm = ImageNormalize(H, interval=MinMaxInterval(), stretch=LogStretch())\n",
    "\n",
    "with plt.style.context('fivethirtyeight'):\n",
    "    fig, ax = plt.subplots(figsize=(10, 6))\n",
    "    im = ax.imshow(H.T, norm=norm, origin='lower', extent=(xe[0], xe[-1], ye[0], ye[-1]),\n",
    "                       aspect='auto', cmap=plt.get_cmap('magma'))\n",
    "    cbar1=plt.colorbar(im, ax=ax, label='counts/bin') #, ticks=[0, 10, 30, 100, 300])\n",
    "    ax.grid(False)\n",
    "    fig.suptitle('Diffraction by L1 support bars', fontsize=40)   \n",
    "    ax.set_xlabel('Dispersion direction in focal plane (mm)')\n",
    "    ax.set_ylabel('Cross-dispersion direction (mm)')\n",
    "\n",
    "fig.savefig(get_path('figures') + '/EQPegdetim.png', \n",
    "            dpi=300, bbox_inches='tight')\n",
    "fig.savefig(get_path('figures') + '/EQPegdetim.pdf', bbox_inches='tight')\n"
   ]
  },
  {
   "cell_type": "markdown",
   "metadata": {},
   "source": [
    "Simulated detector image of an emission line source (the model for the simulation matches the active star EQ Peg A). Note the x and y axis are shown in very different scales. Counts are shown on a logarithmic scale. The bright band of varying thickness in the middle is the main signal, above and below are rays that are dispersed by the L1 support bars. The simulation includes neither astrophysical nor instrumental background.\n",
    "\n",
    "In the center of the image is the main signal. This distribution is wider on the left and right on the image and goes through a minimum around 550 mm. The Rowland torus optimizes the spectral resolution, i.e. the width of the signal in dispersion direction, but at the cost of a wider distribution in cross-dispersion direction. In the tilted torus layout we have chosen for the XGS, there are two minima in cross-dispersion direction. The first one is at the position of the zeroth order (not shown here), the second one is located where the Rowland circle intersects the symmetry axis of the torus again.\n",
    "\n",
    "Above and below the main stripe of signal is a large area with photons that looks almost like a diffuse emission region. This is signal dispersed by the L1 structures. The dispersion angle is given by the diffraction equation that governs any diffractive grating:\n",
    "$ n \\lambda = d \\sin(\\alpha) $\n",
    "where $d$ is the period of the structure, $\\alpha$ is the dispersion angle,\n",
    "$\\lambda$ is the wavelength of the photons in question and $n$ the diffraction\n",
    "order. Almost 90\\% of the signal is found in the $n=0$ order (the central\n",
    "strip), but a few \\% go into orders $n_{\\mathrm{L1}} = $-3, -2, -1, 1, 2, and 3. \n",
    "\n",
    "For a CAT grating, at any particular position in the dispersion direction,\n",
    "there are photons of different energies (see Figure below), at\n",
    "some positions photons of eight to ten different energies fall onto the same\n",
    "detector location. That means that ten different $\\lambda$ values are possible\n",
    "in the equation above, and each of them can be seen in $n_{\\mathrm{L1}}=-3$ to 3. Altogether\n",
    "this means that the L1 dispersed orders are not separately visible in the\n",
    "image, but smear together although in some cases, bright emission lines can be seen\n",
    "individually. For example, around dispersion coordinate 480 mm, there is a single bright\n",
    "emission line, that can be seen individually above and below the main signal,\n",
    "too."
   ]
  },
  {
   "cell_type": "code",
   "execution_count": null,
   "metadata": {},
   "outputs": [],
   "source": [
    "bins = [np.linspace(300, 600, 500), np.linspace(0, 1.5, 200)]\n",
    "\n",
    "H, xe, ye = np.histogram2d(photons['projcirc_y'], \n",
    "                           photons['energy'] + np.random.normal(scale=.060/2.355, size=len(photons)),\n",
    "                           weights=photons['probability'],\n",
    "               bins=bins)\n",
    "# Create an ImageNormalize object\n",
    "norm = ImageNormalize(H, interval=MinMaxInterval(), stretch=LogStretch())\n",
    "\n",
    "with plt.style.context('fivethirtyeight'):\n",
    "    fig, ax = plt.subplots(figsize=(10, 6))\n",
    "    im = ax.imshow(H.T, norm=norm, origin='lower', extent=(xe[0], xe[-1], ye[0], ye[-1]),\n",
    "                       aspect='auto', cmap=plt.get_cmap('magma'))\n",
    "    cbar1=plt.colorbar(im, ax=ax, label='counts/bin') #, ticks=[0, 10, 30, 100, 300])\n",
    "    ax.grid(False)\n",
    "    ax.set_xlabel('Dispersion direction in focal plane (mm)')\n",
    "    ax.set_ylabel('Energy (keV)')\n",
    "    fig.suptitle('Detector has 60 eV FWHM', fontsize=40)\n",
    "    \n",
    "fig.savefig(get_path('figures') + '/EQPegensort.png', \n",
    "            dpi=300, bbox_inches='tight')\n",
    "fig.savefig(get_path('figures') + '/EQPegensort.pdf', bbox_inches='tight')"
   ]
  },
  {
   "cell_type": "markdown",
   "metadata": {},
   "source": [
    "Simulation of EQ Peg A spectrum shown above, but integrated in cross-dispersion direction. The\n",
    "different orders in this energy-position plot can be discerned by eye. the\n",
    "color scale is logarithmic to highlight faint features. While orders are\n",
    "generally well separated, bright emission lines have enough signal that they\n",
    "can contribute a non-negligible number of photons to neighboring orders."
   ]
  },
  {
   "cell_type": "code",
   "execution_count": null,
   "metadata": {},
   "outputs": [],
   "source": [
    "fig, axes = plt.subplots(2, 2, sharex=True, sharey=True, subplot_kw={'aspect': 'equal'}, figsize=(12, 7))\n",
    "\n",
    "for i in range(4):\n",
    "    ind = photons['CCD_ID'] == i\n",
    "    hist, xedges, yedges = np.histogram2d(photons['detpix_x'][ind], photons['detpix_y'][ind], \n",
    "                                          weights=photons['probability'][ind],\n",
    "                            bins=[np.arange(0, 2048, 8), np.arange(0, 1024, 8)])\n",
    "\n",
    "    norm = ImageNormalize(hist, interval=AsymmetricPercentileInterval(0, 99.9),\n",
    "                          stretch=LogStretch())\n",
    "\n",
    "    ax = axes[np.unravel_index(i, axes.shape)]\n",
    "    cax = ax.imshow(hist.T, extent=[0, 2048, 0, 1024],\n",
    "                origin='lower', aspect='equal', \n",
    "                cmap=plt.get_cmap('inferno'),\n",
    "                norm=norm)\n",
    "    cbar1=plt.colorbar(cax, ax=ax, label='counts/bin') #, ticks=[0, 10, 30, 100, 300])\n",
    "    ax.set_xlim(0, 2048)\n",
    "    ax.set_ylim(0, 1024)\n",
    "    ax.set_title(i+1)"
   ]
  },
  {
   "cell_type": "markdown",
   "metadata": {},
   "source": [
    "Figure showing images for the 4 individual detectors planned for the XGS for the same simulations as above. Colorbars are individually scaled to the brightest feature on that particular CCD. Simulations do not include background, but some cross-dispersed signal from the support structure of the gratings bars can be seen in the simulations, in particular at locations where the spectrum contains a bright emission line. The dispersed spectrum contains significant contributions from different orders for any given x position and thus the cross-dispersed spectrum doesn ot consist of just a a few points, but looks smeared out, representing multiple cross-dispsered orders from multiple energies."
   ]
  }
 ],
 "metadata": {
  "hide_input": false,
  "kernelspec": {
   "display_name": "Python 3 (ipykernel)",
   "language": "python",
   "name": "python3"
  },
  "language_info": {
   "codemirror_mode": {
    "name": "ipython",
    "version": 3
   },
   "file_extension": ".py",
   "mimetype": "text/x-python",
   "name": "python",
   "nbconvert_exporter": "python",
   "pygments_lexer": "ipython3",
   "version": "3.10.1"
  }
 },
 "nbformat": 4,
 "nbformat_minor": 2
}

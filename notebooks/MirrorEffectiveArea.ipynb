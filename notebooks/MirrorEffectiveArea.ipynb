{
 "cells": [
  {
   "cell_type": "code",
   "execution_count": null,
   "id": "75f539a8",
   "metadata": {},
   "outputs": [],
   "source": [
    "from nbtemplate import display_header\n",
    "display_header('MirrorEffectiveArea.ipynb')"
   ]
  },
  {
   "cell_type": "code",
   "execution_count": null,
   "id": "402272ab",
   "metadata": {},
   "outputs": [],
   "source": [
    "from copy import deepcopy\n",
    "\n",
    "import numpy as np\n",
    "from astropy.table import QTable\n",
    "import astropy.units as u\n",
    "from astropy.coordinates import SkyCoord\n",
    "from astropy.visualization import ImageNormalize, MinMaxInterval, LogStretch, AsymmetricPercentileInterval, SqrtStretch\n",
    "from scipy import stats\n",
    "from marxs.source import PointSource, FixedPointing\n",
    "from marxs.missions.AXIS import AXIS as axis"
   ]
  },
  {
   "cell_type": "code",
   "execution_count": null,
   "id": "878d1c12",
   "metadata": {},
   "outputs": [],
   "source": [
    "import matplotlib.pyplot as plt\n",
    "\n",
    "%matplotlib inline"
   ]
  },
  {
   "cell_type": "markdown",
   "id": "abc5f8ab",
   "metadata": {},
   "source": [
    "## Effective area\n",
    "\n",
    "The current instrument model contains a number of simplifications. The most important one is probably for the mirror itself. The mirror is modeled as plane onf infinitesimal thickeness. Each photon that intersects that plane is focussed perfectly in the focal point. There is no modelleing of individual mirror shells and no modelling of the double bounce in the WS geomtry. Instead, we simply add a Gaussian blur in in-plane and out-or-plane scattering that gives us a distribution of photon directions (and thus PSF) with the width that we expect the true PSF to have. The radius of the mirror modules is accurate (so the extend of the areas that needs to be covered with gratings is), but individual plates, thickness, etc and the support spider are not modelled. Thus the geometric opening area of the mirror is larger than it actually will be. \n",
    "\n",
    "I'm assuming a the mirror shells to be Ir coated and use the CXRO Henke tables for bulk iridium to calculate the reflection efficiency. Since I don't know the preliminary specifications for the AXIS cameras (at they are certainly subject to change), I base the filters and CCD QE on numbers that I've used in similar form for a number of other missions which I ray-traced in the past like Lynx, Arcus, and RedSox:\n",
    "\n",
    "- Optical blocking filter: 40 nm Al, could be directly deposited on CCDs\n",
    "- UV blocking filter: 30 nm Al + 45 nm polyimide\n",
    "- Filter support: Si mesh with 95 % open area (typical value for Luxel filters)\n",
    "- contamination on CCDs and filters: about 98% transmisivvity for all energies\n",
    "- CCD QE from Suzaku XIS1 BI CCD, assuming 42 micron depletion depth\n",
    "\n",
    "I'm assuming the same filters and efficiency for the zero-order detector and the dispersed signal. The exact shape of the affective area curve will depend on the numbers I have chosen here, but the assumptions are likely not widely off."
   ]
  },
  {
   "cell_type": "markdown",
   "id": "57d8495c",
   "metadata": {},
   "source": [
    "## A scale factor to account for geometric opening area of the mirror modules"
   ]
  },
  {
   "cell_type": "code",
   "execution_count": null,
   "id": "3e34fa25",
   "metadata": {},
   "outputs": [],
   "source": [
    "conf = deepcopy(axis.conf)\n",
    "conf['mirrorgeometricscaling'] = 1\n",
    "instrum_nogratings = axis.PerfectAXIS(gratings=False, conf=conf)"
   ]
  },
  {
   "cell_type": "code",
   "execution_count": null,
   "id": "8e6f36c7",
   "metadata": {},
   "outputs": [],
   "source": [
    "coord = SkyCoord(123 * u.deg, -23 * u.deg)\n",
    "source = PointSource(coords=coord, energy=1 * u.keV)\n",
    "pointing = FixedPointing(coords=coord)"
   ]
  },
  {
   "cell_type": "code",
   "execution_count": null,
   "id": "63525d5c",
   "metadata": {},
   "outputs": [],
   "source": [
    "photons = source.generate_photons(1e5 * u.s)\n",
    "photons = pointing(photons)"
   ]
  },
  {
   "cell_type": "code",
   "execution_count": null,
   "id": "11c02398",
   "metadata": {},
   "outputs": [],
   "source": [
    "photons = instrum_nogratings(photons)"
   ]
  },
  {
   "cell_type": "code",
   "execution_count": null,
   "id": "d9085879",
   "metadata": {},
   "outputs": [],
   "source": [
    "instrum_nogratings.elements[0].area"
   ]
  },
  {
   "cell_type": "code",
   "execution_count": null,
   "id": "eb1ca508",
   "metadata": {},
   "outputs": [],
   "source": [
    "aeff_sim_simple = (photons['probability'].sum() / len(photons) * instrum_nogratings.elements[0].area).to(u.cm**2)\n",
    "aeff_sim_simple"
   ]
  },
  {
   "cell_type": "markdown",
   "id": "4380a60c",
   "metadata": {},
   "source": [
    "Until the mirror geometry is modelled in more detail, I will simply determine a scale factor at 1 keV between my simulation and some assumed value for the effective area at 1 keV; this number can be thought of as the fraction of the geometric area of a module that is not actively concentrating light, e.g. because it hits the 0.5 mm thick \"side\" of a Si shell or because it hits some part of the mirror support structure.\n",
    "\n",
    "**In that sense, all other simulations are scaled to a zero-order effective area of 7000 cm$^2$ at 1 keV.** If that area goes up or down, the effective area for the dispersed spectra needs to be scaled in the same way."
   ]
  },
  {
   "cell_type": "code",
   "execution_count": null,
   "id": "405fd91c",
   "metadata": {},
   "outputs": [],
   "source": [
    "scale_factor = 7000 * u.cm**2 / aeff_sim_simple\n",
    "scale_factor"
   ]
  },
  {
   "cell_type": "markdown",
   "id": "3bafc96e",
   "metadata": {},
   "source": [
    "This number is set as \"mirrorgeometricscaling\" in the conf director for AXIS and will thus be applied to all future simulations."
   ]
  },
  {
   "cell_type": "markdown",
   "id": "814c78fd",
   "metadata": {},
   "source": [
    "## Zero-order effective area\n",
    "\n",
    "The following runs include the scale factor and give the zero order effective area over a wide band-pass."
   ]
  },
  {
   "cell_type": "code",
   "execution_count": null,
   "id": "73aa62a5",
   "metadata": {},
   "outputs": [],
   "source": [
    "instrum_nogratings = axis.PerfectAXIS(gratings=False)\n",
    "\n",
    "energies = np.arange(.2, 10., .1) * u.keV\n",
    "aeff = np.zeros(len(energies)) * u.cm**2"
   ]
  },
  {
   "cell_type": "code",
   "execution_count": null,
   "id": "12419bba",
   "metadata": {},
   "outputs": [],
   "source": [
    "for i, e in enumerate(energies):\n",
    "    source.energy = e\n",
    "    photons = source.generate_photons(1e5 * u.s)\n",
    "    photons = pointing(photons)\n",
    "    photons = instrum_nogratings(photons)\n",
    "    aeff[i] = photons['probability'].sum() / len(photons) * instrum_nogratings.elements[0].area"
   ]
  },
  {
   "cell_type": "code",
   "execution_count": null,
   "id": "921ddfcc",
   "metadata": {},
   "outputs": [],
   "source": [
    "fig, ax = plt.subplots()\n",
    "out = ax.loglog(energies, aeff)\n",
    "ax.set_xlabel('energy (keV)')\n",
    "out = ax.set_ylabel('effective area (cm$^2$)')"
   ]
  }
 ],
 "metadata": {
  "kernelspec": {
   "display_name": "Python 3.10.1 ('kitchensink')",
   "language": "python",
   "name": "python3"
  },
  "language_info": {
   "codemirror_mode": {
    "name": "ipython",
    "version": 3
   },
   "file_extension": ".py",
   "mimetype": "text/x-python",
   "name": "python",
   "nbconvert_exporter": "python",
   "pygments_lexer": "ipython3",
   "version": "3.10.1"
  },
  "vscode": {
   "interpreter": {
    "hash": "c2ba2f51944d9bdbbbd43915e997a04a0d201faf7279ab44f309af268d1bd358"
   }
  }
 },
 "nbformat": 4,
 "nbformat_minor": 5
}

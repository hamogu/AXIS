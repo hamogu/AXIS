{
 "cells": [
  {
   "cell_type": "code",
   "execution_count": null,
   "metadata": {},
   "outputs": [],
   "source": [
    "from nbtemplate import display_header, get_path\n",
    "display_header('Ordersorting.ipynb')"
   ]
  },
  {
   "cell_type": "markdown",
   "metadata": {},
   "source": [
    "## Goal\n",
    "In a CAT grating spectrometer, different orders fall in the same physical location. In XMM or Chandra, we typically see only one or two orders, but in the CAT XGS for Lynx, we will have ten or more orders (although some of them are weak) overlapping in the same physical location. Thus, order sorting needs to be performed using the intrinsic energy resolution of the detector. In this notebook, I put together a few plots and numbers to quantify which energy resolution we needs and how that impacts the performance"
   ]
  },
  {
   "cell_type": "code",
   "execution_count": null,
   "metadata": {},
   "outputs": [],
   "source": [
    "import numpy as np\n",
    "from scipy.stats import norm\n",
    "import astropy.units as u\n",
    "import astropy.constants as c\n",
    "from matplotlib import pyplot as plt\n",
    "\n",
    "%matplotlib inline"
   ]
  },
  {
   "cell_type": "code",
   "execution_count": null,
   "metadata": {},
   "outputs": [],
   "source": [
    "d = 200 * u.nm\n",
    "theta_peak = 2 * 1.6 * u.degree"
   ]
  },
  {
   "cell_type": "code",
   "execution_count": null,
   "metadata": {},
   "outputs": [],
   "source": [
    "delta_E = c.h * c.c / (d * np.sin(theta_peak))"
   ]
  },
  {
   "cell_type": "markdown",
   "metadata": {},
   "source": [
    "The energy spacing $\\Delta E$ between to consecutive orders does not depend on the order number:\n",
    "\n",
    "$\\Delta E = E_{\\mathrm{n+1}} - E_{\\mathrm{n}} =\n",
    "\\frac{hc}{\\lambda_{\\mathrm{n+1}}} - \\frac{hc}{\\lambda_{\\mathrm{n}}} = \n",
    "\\frac{hc}{\\frac{d \\sin{\\theta}}{n+1}} - \\frac{hc}{\\frac{d \\sin{\\theta}}{n}} = \n",
    "\\frac{hc}{d \\sin{\\theta}}$\n",
    "\n",
    "where $h$ is the Plank constant, $c$ is the speeds of light and $d$ is the grating period. $\\theta$ is the diffraction angle. For the CATXGS, we can look at the blaze peak for a typical spacing. Since the blaze peak is not very wide, the requirements are very similar in all places, just a little more stringent closer to the zeroths order and a little looser on the far side. For the blaze peak we find:"
   ]
  },
  {
   "cell_type": "code",
   "execution_count": null,
   "metadata": {},
   "outputs": [],
   "source": [
    "delta_E.to(u.eV)"
   ]
  },
  {
   "cell_type": "code",
   "execution_count": null,
   "metadata": {},
   "outputs": [],
   "source": [
    "sig_E = np.arange(5, 51, 2)\n",
    "FWHM_E = sig_E * 2.355\n",
    "extraction_width = np.arange(10, 111, 2)\n",
    "fraction_enclosed = np.stack([1 - 2 * norm.sf(0.5*extraction_width, scale=sig) for sig in sig_E])\n",
    "fraction_contam = np.stack([norm.sf(delta_E.to(u.eV).value - 0.5*extraction_width, scale=sig) for sig in sig_E])"
   ]
  },
  {
   "cell_type": "code",
   "execution_count": null,
   "metadata": {},
   "outputs": [],
   "source": [
    "fig, ax = plt.subplots()\n",
    "out = ax.imshow(fraction_enclosed, origin='lower',\n",
    "          extent=(extraction_width.min(), extraction_width.max(), sig_E.min() * 2.355, sig_E.max() * 2.355),\n",
    "               vmin=0)\n",
    "cbar = plt.colorbar(out, ax=ax)\n",
    "CS = ax.contour(extraction_width, FWHM_E, fraction_contam, [.01, .02, .04, .08], colors='k')\n",
    "ax.clabel(CS, fontsize=9, inline=1, fmt='%1.2f')\n",
    "ax.set_xlabel('extraction width (eV)')\n",
    "ax.set_ylabel('energy resolution (FWHM in eV)')\n",
    "cbar.set_label('Fraction of enclosed photons')\n",
    "\n",
    "fig.savefig(get_path('figures') + '/ordersorting.png', \n",
    "            dpi=300, bbox_inches='tight')\n",
    "fig.savefig(get_path('figures') + '/ordersorting.pdf', bbox_inches='tight')"
   ]
  },
  {
   "cell_type": "markdown",
   "metadata": {},
   "source": [
    "The color shows the fraction of photons enclosed in a an order-sorting region given extraction width and detector performance.  The contour lines show the fraction of photons from order $n-1$ or $n+1$ that will be detected in order $n$."
   ]
  }
 ],
 "metadata": {
  "hide_input": false,
  "kernelspec": {
   "display_name": "Python 3 (ipykernel)",
   "language": "python",
   "name": "python3"
  },
  "language_info": {
   "codemirror_mode": {
    "name": "ipython",
    "version": 3
   },
   "file_extension": ".py",
   "mimetype": "text/x-python",
   "name": "python",
   "nbconvert_exporter": "python",
   "pygments_lexer": "ipython3",
   "version": "3.10.1"
  }
 },
 "nbformat": 4,
 "nbformat_minor": 2
}

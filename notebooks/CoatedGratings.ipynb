{
 "cells": [
  {
   "cell_type": "code",
   "execution_count": null,
   "id": "31821899",
   "metadata": {},
   "outputs": [],
   "source": [
    "from nbtemplate import display_header, get_path\n",
    "display_header('CoatedGratings.ipynb')"
   ]
  },
  {
   "cell_type": "code",
   "execution_count": null,
   "id": "26dbf2e8",
   "metadata": {},
   "outputs": [],
   "source": [
    "import numpy as np\n",
    "from astropy.coordinates import SkyCoord\n",
    "from astropy.table import QTable, join\n",
    "import astropy.units as u\n",
    "\n",
    "from marxs.source import PointSource, FixedPointing, JitterPointing\n",
    "from marxs.analysis import resolvingpower_from_photonlist\n",
    "from marxslynx.simulations import run_monoenergetic_simulation\n",
    "from marxs.simulator import Sequence\n",
    "from marxs.optics.grating import CATGrating\n",
    "from marxslynx.ralfgrating import facet_table, order_selector_Si, order_selector_SiPt\n",
    "\n",
    "%matplotlib inline\n",
    "import matplotlib.pyplot as plt\n",
    "\n",
    "from marxslynx import AXIS as axis"
   ]
  },
  {
   "cell_type": "code",
   "execution_count": null,
   "id": "5523b91a",
   "metadata": {},
   "outputs": [],
   "source": [
    "instrum = axis.PerfectAXIS()"
   ]
  },
  {
   "cell_type": "markdown",
   "id": "052df86c",
   "metadata": {},
   "source": [
    "# Comparing Pure Si CAT gratings with coated gratings"
   ]
  },
  {
   "cell_type": "markdown",
   "id": "cdbd79bd",
   "metadata": {},
   "source": [
    "## Dispersed spectrum"
   ]
  },
  {
   "cell_type": "code",
   "execution_count": null,
   "id": "463ca4d9",
   "metadata": {},
   "outputs": [],
   "source": [
    "wavegrid = np.arange(1.5, 5., 0.1) * u.nm\n",
    "energy = wavegrid.to(u.keV, equivalencies=u.spectral())"
   ]
  },
  {
   "cell_type": "code",
   "execution_count": null,
   "id": "5e859fac",
   "metadata": {},
   "outputs": [],
   "source": [
    "def res_power_angle(photons, subaperangle, instrum, orders, ang_0=0):\n",
    "    resolvingpower = np.zeros((len(subaperangle), len(orders)))\n",
    "    aeff_per_order = np.zeros_like(resolvingpower)\n",
    "    for i, ang in enumerate(subaperangle):\n",
    "        ind = np.abs(np.abs(photons['facet_ang']) - ang_0) < ang\n",
    "        res, width, pos = resolvingpower_from_photonlist(photons[ind], orders, zeropos=0, col='projcirc_y')\n",
    "        resolvingpower[i, :] = res\n",
    "        aeff_per_order[i, :] = [photons['probability'][ind & (photons['order'] == o)].sum() for o in orders]\n",
    "    aeff_per_order = aeff_per_order * instrum.elements[0].area.to(u.cm**2) / photons.meta['EXPOSURE'][0]\n",
    "    return resolvingpower, aeff_per_order"
   ]
  },
  {
   "cell_type": "code",
   "execution_count": null,
   "id": "7aa2c2c1",
   "metadata": {},
   "outputs": [],
   "source": [
    "tsubaperangle=np.linspace(0, np.pi/2, 7)[1:]\n",
    "\n",
    "def run_multi_energy(instrum, energy, orders, subaperangle=np.linspace(0, np.pi, 7)[1:],\n",
    "                    tsubaperangle=tsubaperangle):\n",
    "    facettab = facet_table(instrum.elements[4])\n",
    "    phot_en = []\n",
    "\n",
    "    for i, e in enumerate(energy):\n",
    "        n = 1e4 * u.s\n",
    "        if e.value > 1.25:\n",
    "            n=5e4 * u.s\n",
    "    \n",
    "        p = run_monoenergetic_simulation(instrum, e, n)\n",
    "        p = join(p, facettab)\n",
    "        phot_en.append(p)\n",
    "        \n",
    "    for p in phot_en:\n",
    "        ind = p['CCD_ID'] >= 0\n",
    "        trespow, taeff = res_power_angle(p[ind], tsubaperangle, instrum, orders, np.pi/2)\n",
    "        p.trespow = trespow\n",
    "        p.taeff = taeff\n",
    "        respow, aeff = res_power_angle(p[ind], subaperangle, instrum, orders)\n",
    "        p.respow = respow\n",
    "        p.aeff = aeff   \n",
    "    return phot_en"
   ]
  },
  {
   "cell_type": "code",
   "execution_count": null,
   "id": "770924b3",
   "metadata": {},
   "outputs": [],
   "source": [
    "orders = order_selector_Si.orders\n",
    "\n",
    "# Now run with uncoated gratings\n",
    "for e in instrum.elements_of_class(CATGrating):\n",
    "    e.order_selector = order_selector_Si\n",
    "    \n",
    "phot_Si = run_multi_energy(instrum, energy, order_selector_Si.orders)"
   ]
  },
  {
   "cell_type": "code",
   "execution_count": null,
   "id": "deb4ab90",
   "metadata": {},
   "outputs": [],
   "source": [
    "# Now run with Pt coated gratings\n",
    "for e in instrum.elements_of_class(CATGrating):\n",
    "    e.order_selector = order_selector_SiPt\n",
    "    \n",
    "phot_Pt = run_multi_energy(instrum, energy, order_selector_SiPt.orders)"
   ]
  },
  {
   "cell_type": "code",
   "execution_count": null,
   "id": "ce49e3a2",
   "metadata": {},
   "outputs": [],
   "source": [
    "def ang_aeff_res(phot_en, subaperangle, energy, orders):\n",
    "    resolvingpower_en = np.zeros((len(subaperangle), len(energy)))\n",
    "\n",
    "    for i, e in enumerate(energy):\n",
    "        p = phot_en[i]\n",
    "        zeropos = np.mean(p['detcirc_phi'][p['order']==0])\n",
    "        resolvingpower = np.zeros((len(subaperangle), len(orders)))\n",
    "        for j, ang in enumerate(subaperangle):\n",
    "            ind = p['CCD_ID'] >=0\n",
    "            res, width, pos = resolvingpower_from_photonlist(p[np.abs(p['facet_ang']) < ang],\n",
    "                                                             orders, col='detcirc_phi', zeropos=zeropos)\n",
    "            resolvingpower[j, :] = res\n",
    "        \n",
    "        resolvingpower = np.ma.masked_invalid(resolvingpower)\n",
    "        # Mask out the orders 0 and 1 which always havwe low resolving power 0 \n",
    "        resolvingpower[:, np.abs(orders) < 2] = np.ma.masked\n",
    "        res = np.ma.average(resolvingpower, axis=1, \n",
    "                            weights=order_selector_Si.probabilities([e], [0], [axis.conf['blazeang']])[1].flatten())\n",
    "        resolvingpower_en[:, i] = res\n",
    "    \n",
    "    en_trespos = np.stack([p.trespow for p in phot_en])\n",
    "    en_taeff = np.stack([p.taeff for p in phot_en])\n",
    "    # There are Nans in there which srew up the average\n",
    "    en_trespos[np.isnan(en_trespos)] = 0\n",
    "    \n",
    "    return en_taeff, en_trespos"
   ]
  },
  {
   "cell_type": "code",
   "execution_count": null,
   "id": "0d41b84d",
   "metadata": {},
   "outputs": [],
   "source": [
    "en_taeff, en_trespos = ang_aeff_res(phot_Si, subaperangle, energy, orders)\n",
    "en_taeffPt, en_tresposPt = ang_aeff_res(phot_Pt, subaperangle, energy, orders)"
   ]
  },
  {
   "cell_type": "code",
   "execution_count": null,
   "id": "3681313f",
   "metadata": {},
   "outputs": [],
   "source": [
    "\n",
    "fig = plt.figure(figsize=(10, 5))\n",
    "ax1 = fig.add_subplot(121)\n",
    "ax2 = fig.add_subplot(122)\n",
    "\n",
    "for i, ang in enumerate(tsubaperangle):\n",
    "    out = ax1.plot(wavegrid, en_taeff[:, i, :].sum(axis=1), label='{:3.0f}'.format(np.rad2deg(ang)))\n",
    "    ax1.plot(wavegrid, en_taeffPt[:, i, :].sum(axis=1), label='{:3.0f}'.format(np.rad2deg(ang)),\n",
    "            ls=':', color=out[0].get_color())\n",
    "#ax.legend(title='Subaperture\\nangle [deg]')\n",
    "ax1.set_ylabel('Effective Area [cm$^2$]')\n",
    "ax1.set_xlabel('wavelength [nm]')\n",
    "ax1.set_xlim([1, 5])\n",
    "\n",
    "for i, ang in enumerate(tsubaperangle):\n",
    "    out = ax2.plot(wavegrid, np.average(en_trespos[:, i, :], axis=1, weights=en_taeff[:, i,:]), \n",
    "             label='{:3.0f} %'.format(np.rad2deg(ang)*4/360*100))\n",
    "    out = ax2.plot(wavegrid, np.average(en_tresposPt[:, i, :], axis=1, weights=en_taeffPt[:, i,:]), \n",
    "                  label='__no_label__',\n",
    "                  ls=':', color=out[0].get_color())\n",
    "ax2.legend(title='Aperture area covered by gratings', ncol=2, loc='lower left')\n",
    "ax2.set_ylabel('Resolving power')\n",
    "ax2.set_xlabel('wavelength [nm]')\n",
    "ax2.set_ylim([2000, None])\n",
    "ax2.set_xlim([1, 5])\n",
    "\n",
    "fig.subplots_adjust(wspace=.3)"
   ]
  },
  {
   "cell_type": "markdown",
   "id": "f0e1c3a0",
   "metadata": {},
   "source": [
    "Effective area and resolving power for simulations with different sub-aperturing. Solid lines are for pure Si gratings, dotted lines are for Pt coated gratings. Coated gratings extend the useful range to lower wavelengths (higher energies) but they are not as efficient aroudn 2 nm (about O VII triplet). This could be compensated by filling a larger fraction of the aperture with gratings, which in turn would reduce the resolving power slightly (unless we chirp or bend the gratings, see notebook on different grating sizes and properties). We could also use a mixture of Si and Pt-coated gratings to retain some effective area at lower energies, while not looring to much effective area around O VII."
   ]
  },
  {
   "cell_type": "markdown",
   "id": "3068d8e7",
   "metadata": {},
   "source": [
    "## The zeroth order\n",
    "\n",
    "The presence of the CAT gratings reduces the signal detected in the zeroth order. Some photons are dispersed to higher orders (after all, that is why we use the gratings in the first place), but there is also a loss due to absorption by the grating frames, the mounting structure, the support structure that is part of the grating membrane, and also the grating bars themselves. For high energies, Si becomes transparent, but the grating still disperse some signal because they act as phase shifting gratings at that point.\n",
    "\n",
    "On the other hand, the signal detected in the zeroth order is scientifically valuable. If sufficient light passes through the gratings, soft X-rays can be analyzed in the grating spectrometer at the same time as the CCD spectrum of the high-energy photons is analyzed in the imaging detector."
   ]
  },
  {
   "cell_type": "code",
   "execution_count": null,
   "id": "3e3b2774",
   "metadata": {},
   "outputs": [],
   "source": [
    "energybins = np.arange(.1, 10, .1) * u.keV\n",
    "energymidpoints = 0.5 * (energybins[:-1] + energybins[1:])"
   ]
  },
  {
   "cell_type": "code",
   "execution_count": null,
   "id": "cebd8afa",
   "metadata": {},
   "outputs": [],
   "source": [
    "mysource = PointSource(coords=SkyCoord(0., 0., unit='deg'),\n",
    "                           energy=QTable({\"energy\": energybins, \n",
    "                                   \"fluxdensity\": np.ones(len(energybins)) / u.s / u.cm**2 / u.keV}),\n",
    "                      )\n",
    "fixedpointing = FixedPointing(coords=SkyCoord(0., 0., unit='deg'))\n",
    "photons = mysource.generate_photons(2e5 * u.s)\n",
    "photons = fixedpointing(photons)"
   ]
  },
  {
   "cell_type": "code",
   "execution_count": null,
   "id": "7b80eb46",
   "metadata": {},
   "outputs": [],
   "source": [
    "instrum_preGAS = Sequence(elements=instrum.elements[:4])\n",
    "instrum_GAS = Sequence(elements=instrum.elements[4:])"
   ]
  },
  {
   "cell_type": "code",
   "execution_count": null,
   "id": "83392e36",
   "metadata": {},
   "outputs": [],
   "source": [
    "photons = instrum_preGAS(photons)"
   ]
  },
  {
   "cell_type": "code",
   "execution_count": null,
   "id": "c24f1252",
   "metadata": {},
   "outputs": [],
   "source": [
    "# Now run with uncoated gratings\n",
    "for e in instrum_GAS.elements_of_class(CATGrating):\n",
    "    e.order_selector = order_selector_Si\n",
    "    \n",
    "p = instrum.elements[4](photons.copy())"
   ]
  },
  {
   "cell_type": "code",
   "execution_count": null,
   "id": "16b62597",
   "metadata": {},
   "outputs": [],
   "source": [
    "# Now run the same with Pt coated gratings\n",
    "for e in instrum_GAS.elements_of_class(CATGrating):\n",
    "    e.order_selector = order_selector_SiPt\n",
    "\n",
    "ppt = instrum.elements[4](photons.copy())"
   ]
  },
  {
   "cell_type": "code",
   "execution_count": null,
   "id": "1931e7a1",
   "metadata": {},
   "outputs": [],
   "source": [
    "before = np.histogram(photons['energy'], weights=photons['probability'], bins=energybins)\n",
    "ind = p['order'] == 0\n",
    "after = np.histogram(p['energy'][ind], weights=p['probability'][ind], bins=energybins)\n",
    "ind = ppt['order'] == 0\n",
    "afterpt = np.histogram(ppt['energy'][ind], weights=ppt['probability'][ind], bins=energybins)"
   ]
  },
  {
   "cell_type": "code",
   "execution_count": null,
   "id": "fae798ee",
   "metadata": {},
   "outputs": [],
   "source": [
    "fig = plt.figure()\n",
    "ax = fig.add_subplot(111)\n",
    "frac = after[0] / before[0]\n",
    "fracpt = afterpt[0] / before[0]\n",
    "tsubaperangle = np.linspace(0, np.pi/2, 7)[1:]\n",
    "for i, ang in enumerate(tsubaperangle):\n",
    "    line, = ax.plot(energymidpoints, \n",
    "             1 - ((2 * ang)/np.pi * frac + (np.pi -(2*ang))/np.pi), \n",
    "             label='{:3.0f} %'.format(np.rad2deg(ang)*4/360*100))\n",
    "    ax.plot(energymidpoints, \n",
    "            1 - ((2 * ang)/np.pi * fracpt + (np.pi -(2 * ang))/np.pi), \n",
    "            ls=':', color=line.get_color())\n",
    "ax.legend(title='Aperture area\\ncovered\\nby gratings', ncol=1, loc='upper right')\n",
    "ax.set_xlabel('energy [keV]')\n",
    "ax.set_ylabel('fraction of photons removed from\\nbeam when XGS is inserted')\n",
    "ax.set_ylim([0, 1.])\n",
    "ax.set_xlim([0, 16.])\n",
    "fig.savefig(get_path('figures') + '/highen.png', \n",
    "            dpi=300, bbox_inches='tight')\n",
    "fig.savefig(get_path('figures') + '/highen.pdf', bbox_inches='tight')"
   ]
  },
  {
   "cell_type": "markdown",
   "id": "765f0a4c",
   "metadata": {},
   "source": [
    "This plot shows how much of the incoming signal is removed from the beam by the CAT gratings. The solid lines are for pure Si gratings, the dotted lines for Si gratings coated with Pt. This increases the grating efficiency between 1 and 2 keV, but is also reduces the signal seen in zeroth order. Different colors represent different filling factors.  70% of the high-energy signal would still be available for the zero-order detector, even if we cover 2/3 of the aperture with CAT gratings. This fraction decreases for lower energies, in particular when using PT coated gratings, but below about 2 keV the dispersed signal in the grating spectrometer is more valuable than the zeroth-order signal anyway. Unless the entire aperture is filled with gratings, there will still be sufficient signal at the zeroth order to determine the position, even for very soft sources."
   ]
  }
 ],
 "metadata": {
  "kernelspec": {
   "display_name": "Python 3 (ipykernel)",
   "language": "python",
   "name": "python3"
  },
  "language_info": {
   "codemirror_mode": {
    "name": "ipython",
    "version": 3
   },
   "file_extension": ".py",
   "mimetype": "text/x-python",
   "name": "python",
   "nbconvert_exporter": "python",
   "pygments_lexer": "ipython3",
   "version": "3.10.1"
  }
 },
 "nbformat": 4,
 "nbformat_minor": 5
}
